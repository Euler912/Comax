{
  "nbformat": 4,
  "nbformat_minor": 0,
  "metadata": {
    "colab": {
      "provenance": [],
      "collapsed_sections": [
        "uZztsfdHya-C",
        "WN6mMe7Xy5LC",
        "ZTRurZ5x2xlN",
        "Ld3DcuIr3Cnq"
      ]
    },
    "kernelspec": {
      "name": "python3",
      "display_name": "Python 3"
    },
    "language_info": {
      "name": "python"
    }
  },
  "cells": [
    {
      "cell_type": "markdown",
      "source": [
        "#packs"
      ],
      "metadata": {
        "id": "uZztsfdHya-C"
      }
    },
    {
      "cell_type": "code",
      "execution_count": 2,
      "metadata": {
        "id": "It9BPsUowkQD"
      },
      "outputs": [],
      "source": [
        "from sklearn.datasets import fetch_california_housing\n",
        "import pandas as pd\n",
        "import numpy as np\n",
        "from numpy import linalg as LA\n",
        "import torch\n",
        "import torch.nn as nn\n",
        "from torch import optim\n",
        "from sklearn.feature_selection import mutual_info_regression\n",
        "from sklearn.model_selection import train_test_split\n",
        "from sklearn.preprocessing import StandardScaler\n",
        "scaler = StandardScaler()\n",
        "import matplotlib.pyplot as plt\n",
        "from scipy import stats\n",
        "\n",
        "import warnings\n",
        "\n",
        "with warnings.catch_warnings():\n",
        "    warnings.filterwarnings(\"ignore\", category=FutureWarning)\n",
        "    california = fetch_california_housing()\n",
        "# Load the Boston dataset into a Pandas DataFrame\n",
        "df = pd.DataFrame(california.data, columns=california.feature_names)\n",
        "num_cols = df.select_dtypes(include=np.number).columns.tolist()\n",
        "\n"
      ]
    },
    {
      "cell_type": "markdown",
      "source": [
        "#Z-Score"
      ],
      "metadata": {
        "id": "WN6mMe7Xy5LC"
      }
    },
    {
      "cell_type": "code",
      "source": [
        "\n",
        "# Compute the z-score for each value in the numerical columns\n",
        "z_scores = np.abs(stats.zscore(df[num_cols]))\n",
        "\n",
        "# Set a threshold for z-score\n",
        "z_threshold = 1.5\n",
        "\n",
        "# Find the rows with outliers in any of the numerical columns\n",
        "outlier_rows = np.where(z_scores > z_threshold)[0]\n",
        "\n",
        "# Remove the outlier rows from the DataFrame\n",
        "df = df.drop(outlier_rows)\n",
        "\n",
        "# Reset the index of the DataFrame\n",
        "df = df.reset_index(drop=True)\n"
      ],
      "metadata": {
        "id": "h2NukSwKxmrX"
      },
      "execution_count": 3,
      "outputs": []
    },
    {
      "cell_type": "markdown",
      "source": [
        "#feature engineering"
      ],
      "metadata": {
        "id": "ZTRurZ5x2xlN"
      }
    },
    {
      "cell_type": "code",
      "source": [
        "y = df.Longitude\n",
        "X = df.drop(\"Longitude\", axis=1)\n",
        "mi_scores = mutual_info_regression(X, y)\n",
        "feat_importances=pd.Series(mi_scores,X.columns[0:len(X.columns)])\n",
        "feat_importances.plot(kind='barh')\n",
        "plt.show()\n",
        "X_featured=X.drop([\"AveRooms\",\"Population\"], axis=1)\n",
        "\n",
        "\n",
        "X_train, X_test, y_train, y_test = train_test_split(X_featured, y, test_size=0.1, random_state=1)\n",
        "\n",
        "X_train, X_val, y_train, y_val = train_test_split(X_train, y_train, test_size=0.1, random_state=1)\n",
        "\n",
        "\n",
        "X_train=scaler.fit_transform(X_train)\n",
        "\n",
        "X_test=scaler.transform(X_test)\n",
        "\n",
        "X_val=scaler.transform(X_val)\n",
        "\n",
        "X_train=np.array(X_train)\n",
        "X_test=np.array(X_test)\n",
        "X_val=np.array(X_val)\n",
        "y_train=np.array(y_train)\n",
        "y_test=np.array(y_test)\n",
        "y_val=np.array(y_val)\n",
        "#\n",
        "X_train=torch.from_numpy(X_train).float()\n",
        "X_test=torch.from_numpy(X_test).float()\n",
        "y_train=torch.from_numpy(y_train).float()\n",
        "y_test=torch.from_numpy(y_test).float()\n",
        "X_val=torch.from_numpy(X_val).float()\n",
        "y_val=torch.from_numpy(y_val).float()\n",
        "y_test_reshaped = y_test.reshape(-1, 1)\n",
        "y_train = y_train.reshape(-1, 1)\n",
        "y_val = y_val.reshape(-1, 1)\n"
      ],
      "metadata": {
        "id": "7ucEqYv2xtab",
        "colab": {
          "base_uri": "https://localhost:8080/",
          "height": 430
        },
        "outputId": "44edf36f-9640-4fb0-f570-b364e0417608"
      },
      "execution_count": 4,
      "outputs": [
        {
          "output_type": "display_data",
          "data": {
            "text/plain": [
              "<Figure size 640x480 with 1 Axes>"
            ],
            "image/png": "[encoded data removed]"
          },
          "metadata": {}
        }
      ]
    },
    {
      "cell_type": "markdown",
      "source": [
        "#the regression itself"
      ],
      "metadata": {
        "id": "Ld3DcuIr3Cnq"
      }
    },
    {
      "cell_type": "code",
      "source": [
        "class LinearRegression(torch.nn.Module):\n",
        "    def __init__(self):\n",
        "        super(LinearRegression, self).__init__()\n",
        "        self.linear = torch.nn.Linear(5, 1, bias = True) # bias is default True\n",
        "\n",
        "    def forward(self, x):\n",
        "        y_pred = self.linear(x)\n",
        "        return y_pred\n",
        "our_model = LinearRegression()\n",
        "criterion = torch.nn.MSELoss()"
      ],
      "metadata": {
        "id": "rX3pWh1ERi-h"
      },
      "execution_count": 5,
      "outputs": []
    },
    {
      "cell_type": "markdown",
      "source": [
        "#LBFGS optimizer"
      ],
      "metadata": {
        "id": "zDOJnRXC3RLr"
      }
    },
    {
      "cell_type": "code",
      "source": [
        "from torch.optim import LBFGS\n",
        "import torch\n",
        "\n",
        "model_LBFGS = LinearRegression()\n",
        "\n",
        "train_loss = []\n",
        "val_loss = []\n",
        "optimizer_LBFGS = LBFGS(model_LBFGS.parameters(), max_iter=1240, lr=1)\n",
        "\n",
        "     # Reshape y_train and y_val to have size (n_samples, 1)\n",
        "y_train = y_train.reshape(-1, 1)\n",
        "y_val = y_val.reshape(-1, 1)\n",
        "\n",
        "     # Define the closure function for training set\n",
        "def train_closure():\n",
        "\n",
        "  optimizer_LBFGS.zero_grad()\n",
        "  output = model_LBFGS(X_train)\n",
        "  loss_bfgs = criterion(output, y_train)\n",
        "  loss_bfgs.backward()\n",
        "  return loss_bfgs\n",
        "\n",
        "     # Define the closure function for validation set\n",
        "def val_closure():\n",
        "\n",
        "  output = model_LBFGS(X_val)\n",
        "  loss_bfgs = criterion(output, y_val)\n",
        "  return loss_bfgs\n",
        "\n",
        "iteration_number =22\n",
        "\n",
        "     # Train the model\n",
        "\n",
        "for i in range(iteration_number):\n",
        "    train_loss.append(train_closure().item())\n",
        "    # Evaluate the model on validation set\n",
        "    with torch.no_grad():\n",
        "        loss_val = val_closure().item()\n",
        "        val_loss.append(loss_val)\n",
        "        loss = optimizer_LBFGS.step(train_closure)\n",
        "    if i % 1 == 0:\n",
        "\n",
        "        print(\"Iteration {}: train_loss = {}, val_loss = {}\".format(i, train_loss[-1], loss_val,))\n",
        "\n",
        "\n",
        "\n",
        "\n",
        "\n",
        "\n",
        "    #  Plot the learning curve\n",
        "alpha = np.linspace(1, iteration_number, iteration_number)\n",
        "plt.plot(alpha, train_loss, label='Train Curve',marker=\"*\")\n",
        "\n",
        "plt.plot(alpha, val_loss, label='Validation Curve', linestyle='dashed')\n",
        "\n",
        "plt.xlabel('iterations', fontsize=12)\n",
        "plt.ylabel('loss', fontsize=12)\n",
        "plt.legend()\n",
        "plt.show()\n",
        "print(\"The MSE of the test is:\", criterion(model_LBFGS(X_test),y_test_reshaped).item())\n",
        "grad_norm = torch.norm(torch.stack([torch.norm(p.grad.detach()) for p in model_LBFGS.parameters()]))\n",
        "print(\"The norm at critic point is:\", grad_norm.item())\n"
      ],
      "metadata": {
        "colab": {
          "base_uri": "https://localhost:8080/",
          "height": 882
        },
        "id": "AIsTrwWB-SbX",
        "outputId": "6ef6063c-e767-4f3c-ca5a-038785ad01f4"
      },
      "execution_count": 6,
      "outputs": [
        {
          "output_type": "stream",
          "name": "stdout",
          "text": [
            "Iteration 0: train_loss = 14216.9033203125, val_loss = 14200.8564453125\n",
            "Iteration 1: train_loss = 0.34916362166404724, val_loss = 0.35895803570747375\n",
            "Iteration 2: train_loss = 0.34916362166404724, val_loss = 0.35895803570747375\n",
            "Iteration 3: train_loss = 0.34916362166404724, val_loss = 0.35895803570747375\n",
            "Iteration 4: train_loss = 0.34916362166404724, val_loss = 0.35895803570747375\n",
            "Iteration 5: train_loss = 0.34916362166404724, val_loss = 0.35895803570747375\n",
            "Iteration 6: train_loss = 0.34916362166404724, val_loss = 0.35895803570747375\n",
            "Iteration 7: train_loss = 0.34916362166404724, val_loss = 0.35895803570747375\n",
            "Iteration 8: train_loss = 0.34916362166404724, val_loss = 0.35895803570747375\n",
            "Iteration 9: train_loss = 0.34916362166404724, val_loss = 0.35895803570747375\n",
            "Iteration 10: train_loss = 0.34916362166404724, val_loss = 0.35895803570747375\n",
            "Iteration 11: train_loss = 0.34916362166404724, val_loss = 0.35895803570747375\n",
            "Iteration 12: train_loss = 0.34916362166404724, val_loss = 0.35895803570747375\n",
            "Iteration 13: train_loss = 0.34916362166404724, val_loss = 0.35895803570747375\n",
            "Iteration 14: train_loss = 0.34916362166404724, val_loss = 0.35895803570747375\n",
            "Iteration 15: train_loss = 0.34916362166404724, val_loss = 0.35895803570747375\n",
            "Iteration 16: train_loss = 0.34916362166404724, val_loss = 0.35895803570747375\n",
            "Iteration 17: train_loss = 0.34916362166404724, val_loss = 0.35895803570747375\n",
            "Iteration 18: train_loss = 0.34916362166404724, val_loss = 0.35895803570747375\n",
            "Iteration 19: train_loss = 0.34916362166404724, val_loss = 0.35895803570747375\n",
            "Iteration 20: train_loss = 0.34916362166404724, val_loss = 0.35895803570747375\n",
            "Iteration 21: train_loss = 0.34916362166404724, val_loss = 0.35895803570747375\n"
          ]
        },
        {
          "output_type": "display_data",
          "data": {
            "text/plain": [
              "<Figure size 640x480 with 1 Axes>"
            ],
            "image/png": "[encoded data removed]"
          },
          "metadata": {}
        },
        {
          "output_type": "stream",
          "name": "stdout",
          "text": [
            "The MSE of the test is: 0.36674174666404724\n",
            "The norm at critic point is: 3.237529381294735e-05\n"
          ]
        }
      ]
    },
    {
      "cell_type": "markdown",
      "source": [
        "#SGD optimizer"
      ],
      "metadata": {
        "id": "NzE1aQGj3Kvr"
      }
    },
    {
      "cell_type": "code",
      "source": [
        "def loveSGD():\n",
        "\n",
        "    model_sgd = LinearRegression()\n",
        "    iter = 41\n",
        "\n",
        "    optimizer_sgd = torch.optim.SGD(model_sgd.parameters(), lr=0.1)\n",
        "\n",
        "    losses_sgd = []\n",
        "    val_losses_sgd = []\n",
        "    for i in range(iter):\n",
        "        # Train the model on the training set\n",
        "        optimizer_sgd.zero_grad()\n",
        "        y_pred = model_sgd(X_train)\n",
        "        loss = criterion(y_pred, y_train)\n",
        "        loss.backward()\n",
        "        optimizer_sgd.step()\n",
        "        losses_sgd.append(loss.item())\n",
        "\n",
        "        # Evaluate the model on the validation set\n",
        "        with torch.no_grad():\n",
        "            y_val_pred = model_sgd(X_val)\n",
        "            val_loss = criterion(y_val_pred, y_val)\n",
        "            val_losses_sgd.append(val_loss.item())\n",
        "\n",
        "        if i % 5 == 0:\n",
        "            print('Iter {}, train_loss {}, val_loss {}'.format(i, loss.item(), val_loss.item()))\n",
        "\n",
        "    # Plot the loss curves\n",
        "    plt.plot(range(1, iter + 1), losses_sgd, label='Training loss')\n",
        "    plt.plot(range(1, iter + 1), val_losses_sgd, label='Validation loss')\n",
        "    plt.xlabel('Iteration')\n",
        "    plt.ylabel('Loss')\n",
        "    plt.legend()\n",
        "    plt.show()\n",
        "\n",
        "\n",
        "    print(\"The MSE of the test is:\", criterion(model_sgd(X_test),y_test_reshaped).item())\n",
        "\n",
        "loveSGD()\n"
      ],
      "metadata": {
        "colab": {
          "base_uri": "https://localhost:8080/",
          "height": 628
        },
        "id": "2uW0ip5Fr4eK",
        "outputId": "4a0043c5-4c57-4256-e4e8-b7aae99d219e"
      },
      "execution_count": 9,
      "outputs": [
        {
          "output_type": "stream",
          "name": "stdout",
          "text": [
            "Iter 0, train_loss 14174.9658203125, val_loss 9064.32421875\n",
            "Iter 5, train_loss 1522.353759765625, val_loss 973.6256103515625\n",
            "Iter 10, train_loss 163.77963256835938, val_loss 104.858642578125\n",
            "Iter 15, train_loss 17.899118423461914, val_loss 11.578229904174805\n",
            "Iter 20, train_loss 2.233999490737915, val_loss 1.5634573698043823\n",
            "Iter 25, train_loss 0.5516525506973267, val_loss 0.4883354604244232\n",
            "Iter 30, train_loss 0.37093302607536316, val_loss 0.3729068338871002\n",
            "Iter 35, train_loss 0.35150790214538574, val_loss 0.36049267649650574\n",
            "Iter 40, train_loss 0.34941667318344116, val_loss 0.3591431677341461\n"
          ]
        },
        {
          "output_type": "display_data",
          "data": {
            "text/plain": [
              "<Figure size 640x480 with 1 Axes>"
            ],
            "image/png": "[encoded data removed]"
          },
          "metadata": {}
        },
        {
          "output_type": "stream",
          "name": "stdout",
          "text": [
            "The MSE of the test is: 0.3673408329486847\n"
          ]
        }
      ]
    },
    {
      "cell_type": "markdown",
      "source": [
        "#Gradient descent"
      ],
      "metadata": {
        "id": "cM2VwidDbW_7"
      }
    },
    {
      "cell_type": "code",
      "source": [
        "# Initialize weights and bias\n",
        "rng = np.random.RandomState(42)\n",
        "init = rng.randint(100, size=(len(X_train[0])+1))\n",
        "w = init[:len(init)-1] / 100\n",
        "b = init[-1] / 100\n",
        "w = w.reshape(-1, 1)\n",
        "temp=X_train\n",
        "temp_target=y_train\n",
        "temp = temp.numpy()\n",
        "temp_target = temp_target.numpy()\n",
        "\n",
        "def y_pred(x, w, b):\n",
        "    return np.matmul(x, w) + b\n",
        "\n",
        "def loss(x, w, b, y_actual):\n",
        "    return ((y_pred(x, w, b) - y_actual) ** 2).mean()\n",
        "\n",
        "def grad(x, w, b, y_actual):\n",
        "    dw = (2/x.shape[0]) * np.matmul(x.T, (y_pred(x, w, b) - y_actual))\n",
        "    db = (2/x.shape[0]) * np.sum(y_pred(x, w, b) - y_actual)\n",
        "    return dw, db\n",
        "\n",
        "# Define the learning rate and number of epochs\n",
        "learning_rate = 0.01\n",
        "num_epochs = 400\n",
        "\n",
        "# Implement gradient descent\n",
        "for epoch in range(num_epochs):\n",
        "    # Calculate the gradients for weights and bias\n",
        "    dw, db = grad(temp, w, b, temp_target)\n",
        "\n",
        "    # Update the weights and bias\n",
        "    w = w - learning_rate * dw.reshape(-1, 1)\n",
        "    b = b - learning_rate * db\n",
        "\n",
        "    # Calculate the loss function\n",
        "    loss_value = loss(temp, w, b, temp_target)\n",
        "\n",
        "    # Print the loss every 100 epochs\n",
        "    if epoch % 10 == 0:\n",
        "        print(f\"Epoch {epoch}, Loss: {loss_value:.4f}\")\n"
      ],
      "metadata": {
        "colab": {
          "base_uri": "https://localhost:8080/"
        },
        "id": "qi9Rakh3ux97",
        "outputId": "ab86655f-2ba0-4eca-c81b-babfa00f32d1"
      },
      "execution_count": 8,
      "outputs": [
        {
          "output_type": "stream",
          "name": "stdout",
          "text": [
            "Epoch 0, Loss: 13727.3581\n",
            "Epoch 10, Loss: 9164.7736\n",
            "Epoch 20, Loss: 6118.7175\n",
            "Epoch 30, Loss: 4085.1167\n",
            "Epoch 40, Loss: 2727.4461\n",
            "Epoch 50, Loss: 1821.0371\n",
            "Epoch 60, Loss: 1215.8981\n",
            "Epoch 70, Loss: 811.8923\n",
            "Epoch 80, Loss: 542.1671\n",
            "Epoch 90, Loss: 362.0905\n",
            "Epoch 100, Loss: 241.8654\n",
            "Epoch 110, Loss: 161.5987\n",
            "Epoch 120, Loss: 108.0094\n",
            "Epoch 130, Loss: 72.2307\n",
            "Epoch 140, Loss: 48.3430\n",
            "Epoch 150, Loss: 32.3941\n",
            "Epoch 160, Loss: 21.7457\n",
            "Epoch 170, Loss: 14.6360\n",
            "Epoch 180, Loss: 9.8889\n",
            "Epoch 190, Loss: 6.7194\n",
            "Epoch 200, Loss: 4.6030\n",
            "Epoch 210, Loss: 3.1899\n",
            "Epoch 220, Loss: 2.2463\n",
            "Epoch 230, Loss: 1.6162\n",
            "Epoch 240, Loss: 1.1954\n",
            "Epoch 250, Loss: 0.9144\n",
            "Epoch 260, Loss: 0.7267\n",
            "Epoch 270, Loss: 0.6014\n",
            "Epoch 280, Loss: 0.5177\n",
            "Epoch 290, Loss: 0.4618\n",
            "Epoch 300, Loss: 0.4244\n",
            "Epoch 310, Loss: 0.3995\n",
            "Epoch 320, Loss: 0.3828\n",
            "Epoch 330, Loss: 0.3716\n",
            "Epoch 340, Loss: 0.3642\n",
            "Epoch 350, Loss: 0.3592\n",
            "Epoch 360, Loss: 0.3559\n",
            "Epoch 370, Loss: 0.3537\n",
            "Epoch 380, Loss: 0.3522\n",
            "Epoch 390, Loss: 0.3512\n"
          ]
        }
      ]
    }
  ]
}